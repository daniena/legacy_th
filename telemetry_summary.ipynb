{
 "cells": [
  {
   "cell_type": "code",
   "execution_count": 4,
   "metadata": {
    "scrolled": false
   },
   "outputs": [
    {
     "name": "stdout",
     "output_type": "stream",
     "text": [
      "times solution converged: 23 \n",
      "times model converged: 5 \n",
      "times both converged: 4 \n",
      "times solution converged but model did not: 19 \n",
      "times model converged but solution did not: 1 \n",
      "times solution actively avoided with success: 28.0 \n",
      "times model actively avoided with success: 1.0 \n",
      "times both actively avoided with success: 1.0 \n",
      "times solution actively avoided with success when the model failed: 23.0 \n",
      "times model actively avoided with success when the solution failed: 0.0 \n",
      "times model failed avoidance: 34.0 \n",
      "times solution failed avoidance: 3.0 \n",
      "times both failed avoidance: 3.0 \n",
      "times solution failed avoidance but model did not: 0.0 \n",
      "times model failed avoidance but solution did not: 31.0\n"
     ]
    }
   ],
   "source": [
    "import pandas as pd\n",
    "import os\n",
    "from util.file_operations import load_json\n",
    "\n",
    "plotpath = os.getcwd() + '/data/sessions/CAI/plots'\n",
    "\n",
    "#subpath = 'seed101_CAVIKAUGee_sphere_nume10_numt30000'\n",
    "subpath = 'seed102_CAVIKAUGee_sphere_nume30_numt1000'\n",
    "\n",
    "metricspath = plotpath + '/' + subpath + '/' + 'metrics'\n",
    "\n",
    "df = pd.read_csv(metricspath + '/' + 'task_performance.csv')\n",
    "print('times solution converged:', sum(df.loc[:,'solution_converged']),\n",
    "      '\\ntimes model converged:', sum(df.loc[:,'inference_converged']),\n",
    "      '\\ntimes both converged:', sum(df.loc[:,'both_converged']),\n",
    "      '\\ntimes solution converged but model did not:', sum(df.loc[:,'sol_converged_but_inf_did_not']),\n",
    "      '\\ntimes model converged but solution did not:', sum(df.loc[:,'inf_converged_but_sol_did_not']),\n",
    "      '\\ntimes solution actively avoided with success:', sum(df.loc[:,'sol_actively_avoided_with_success']),\n",
    "      '\\ntimes model actively avoided with success:', sum(df.loc[:,'inf_actively_avoided_with_success']),\n",
    "      '\\ntimes both actively avoided with success:', sum(df.loc[:,'both_actively_avoided_with_success']),\n",
    "      '\\ntimes solution actively avoided with success when the model failed:', sum(df.loc[:,'sol_actively_avoided_when_inf_failed']),\n",
    "      '\\ntimes model actively avoided with success when the solution failed:', sum(df.loc[:,'inf_actively_avoided_when_sol_failed']),\n",
    "      '\\ntimes model failed avoidance:', sum(df.loc[:,'inf_failed_avoidance']),\n",
    "      '\\ntimes solution failed avoidance:', sum(df.loc[:,'sol_failed_avoidance']),\n",
    "      '\\ntimes both failed avoidance:', sum(df.loc[:,'both_failed_avoidance']),\n",
    "      '\\ntimes solution failed avoidance but model did not:', sum(df.loc[:,'sol_failed_avoidance_but_inf_did_not']),\n",
    "      '\\ntimes model failed avoidance but solution did not:', sum(df.loc[:,'inf_failed_avoidance_but_sol_did_not']))"
   ]
  }
 ],
 "metadata": {
  "kernelspec": {
   "display_name": "Python 2",
   "language": "python",
   "name": "python2"
  },
  "language_info": {
   "codemirror_mode": {
    "name": "ipython",
    "version": 2
   },
   "file_extension": ".py",
   "mimetype": "text/x-python",
   "name": "python",
   "nbconvert_exporter": "python",
   "pygments_lexer": "ipython2",
   "version": "2.7.15rc1"
  }
 },
 "nbformat": 4,
 "nbformat_minor": 2
}
